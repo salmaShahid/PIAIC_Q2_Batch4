{
  "nbformat": 4,
  "nbformat_minor": 0,
  "metadata": {
    "colab": {
      "name": "Numpy_Assignment1 .ipynb",
      "provenance": [],
      "collapsed_sections": []
    },
    "kernelspec": {
      "name": "python3",
      "display_name": "Python 3"
    }
  },
  "cells": [
    {
      "cell_type": "code",
      "metadata": {
        "colab": {
          "base_uri": "https://localhost:8080/"
        },
        "id": "eOnVjuRoCTv8",
        "outputId": "2172fd9d-a460-4e70-d2ac-f725946974c0"
      },
      "source": [
        "#check Numpy Lib Version\r\n",
        "import numpy as np\r\n",
        "print(np.__version__)"
      ],
      "execution_count": 1,
      "outputs": [
        {
          "output_type": "stream",
          "text": [
            "1.18.5\n"
          ],
          "name": "stdout"
        }
      ]
    },
    {
      "cell_type": "code",
      "metadata": {
        "colab": {
          "base_uri": "https://localhost:8080/"
        },
        "id": "66KudWmlCtMW",
        "outputId": "441aa1b7-d129-4b7d-bf76-d1f9f4bef22a"
      },
      "source": [
        "#1- 1D Array of string\r\n",
        "s = np.array([\"salma\",\"aqsa\",\"anum\",\"Aini\"])\r\n",
        "print(s) #Print the elements\r\n",
        "s #print elemenets with thheir type"
      ],
      "execution_count": 3,
      "outputs": [
        {
          "output_type": "stream",
          "text": [
            "['salma' 'aqsa' 'anum' 'Aini']\n"
          ],
          "name": "stdout"
        },
        {
          "output_type": "execute_result",
          "data": {
            "text/plain": [
              "array(['salma', 'aqsa', 'anum', 'Aini'], dtype='<U5')"
            ]
          },
          "metadata": {
            "tags": []
          },
          "execution_count": 3
        }
      ]
    },
    {
      "cell_type": "code",
      "metadata": {
        "colab": {
          "base_uri": "https://localhost:8080/"
        },
        "id": "Gwr5rgZVDRzJ",
        "outputId": "09f6eaf2-36b1-4725-9bb2-95b76daf2a61"
      },
      "source": [
        "#2- 2D Array of Number\r\n",
        "j = np.array([[4,6,8],[9,3,1]], dtype= int) #with dtype\r\n",
        "k = np.array([[4,6,8],[\"salma\",3,1]]) #without\r\n",
        "j"
      ],
      "execution_count": 10,
      "outputs": [
        {
          "output_type": "execute_result",
          "data": {
            "text/plain": [
              "array([[4, 6, 8],\n",
              "       [9, 3, 1]])"
            ]
          },
          "metadata": {
            "tags": []
          },
          "execution_count": 10
        }
      ]
    },
    {
      "cell_type": "code",
      "metadata": {
        "colab": {
          "base_uri": "https://localhost:8080/"
        },
        "id": "JXWOD-nvEHx3",
        "outputId": "28036aac-6972-4ab5-b7f4-404d408c406f"
      },
      "source": [
        "#3- arange func \r\n",
        "t = np.arange(1,20,2) #start,end, diifence(stepsize)\r\n",
        "t"
      ],
      "execution_count": 11,
      "outputs": [
        {
          "output_type": "execute_result",
          "data": {
            "text/plain": [
              "array([ 1,  3,  5,  7,  9, 11, 13, 15, 17, 19])"
            ]
          },
          "metadata": {
            "tags": []
          },
          "execution_count": 11
        }
      ]
    },
    {
      "cell_type": "code",
      "metadata": {
        "colab": {
          "base_uri": "https://localhost:8080/"
        },
        "id": "Talq0ke0ElrR",
        "outputId": "4a6a104c-088b-42a9-946f-a84db20a110b"
      },
      "source": [
        "#4- linspace func\r\n",
        "p = np.linspace(0,10,6) #start,end, num (num of sample)\r\n",
        "p"
      ],
      "execution_count": 15,
      "outputs": [
        {
          "output_type": "execute_result",
          "data": {
            "text/plain": [
              "array([ 0.,  2.,  4.,  6.,  8., 10.])"
            ]
          },
          "metadata": {
            "tags": []
          },
          "execution_count": 15
        }
      ]
    },
    {
      "cell_type": "code",
      "metadata": {
        "colab": {
          "base_uri": "https://localhost:8080/"
        },
        "id": "AZrfzavHFY55",
        "outputId": "b9bf0023-123b-4a45-c41a-46e591c3404c"
      },
      "source": [
        "#5- zeros func\r\n",
        "c = np.zeros((5))\r\n",
        "c"
      ],
      "execution_count": 17,
      "outputs": [
        {
          "output_type": "execute_result",
          "data": {
            "text/plain": [
              "array([0., 0., 0., 0., 0.])"
            ]
          },
          "metadata": {
            "tags": []
          },
          "execution_count": 17
        }
      ]
    },
    {
      "cell_type": "code",
      "metadata": {
        "colab": {
          "base_uri": "https://localhost:8080/"
        },
        "id": "QYdrFfAsGC9o",
        "outputId": "9eb3c9ca-136d-401c-a90a-0aa191195b9e"
      },
      "source": [
        "#6- full func\r\n",
        "f = np.full((4,4),0)#4x4 array with all values zero\r\n",
        "f"
      ],
      "execution_count": 19,
      "outputs": [
        {
          "output_type": "execute_result",
          "data": {
            "text/plain": [
              "array([[0, 0, 0, 0],\n",
              "       [0, 0, 0, 0],\n",
              "       [0, 0, 0, 0],\n",
              "       [0, 0, 0, 0]])"
            ]
          },
          "metadata": {
            "tags": []
          },
          "execution_count": 19
        }
      ]
    },
    {
      "cell_type": "code",
      "metadata": {
        "colab": {
          "base_uri": "https://localhost:8080/"
        },
        "id": "YIjZCCM7GcVz",
        "outputId": "b1c0502f-8843-418f-f98b-49f9042a852b"
      },
      "source": [
        "#7- eye func\r\n",
        "e = np.eye(3) #diagnol array\r\n",
        "e"
      ],
      "execution_count": 21,
      "outputs": [
        {
          "output_type": "execute_result",
          "data": {
            "text/plain": [
              "array([[1., 0., 0.],\n",
              "       [0., 1., 0.],\n",
              "       [0., 0., 1.]])"
            ]
          },
          "metadata": {
            "tags": []
          },
          "execution_count": 21
        }
      ]
    },
    {
      "cell_type": "code",
      "metadata": {
        "colab": {
          "base_uri": "https://localhost:8080/"
        },
        "id": "ufj5h5TeGpq4",
        "outputId": "a4e8f7bb-c498-49cf-ede4-09cf2a529860"
      },
      "source": [
        "#8- ones func\r\n",
        "o = np.ones((7))\r\n",
        "o"
      ],
      "execution_count": 23,
      "outputs": [
        {
          "output_type": "execute_result",
          "data": {
            "text/plain": [
              "array([1., 1., 1., 1., 1., 1., 1.])"
            ]
          },
          "metadata": {
            "tags": []
          },
          "execution_count": 23
        }
      ]
    },
    {
      "cell_type": "code",
      "metadata": {
        "colab": {
          "base_uri": "https://localhost:8080/"
        },
        "id": "IA5GncYYG0ZL",
        "outputId": "563359cb-3da4-4dd9-b2fd-84ff017b4919"
      },
      "source": [
        "#9- random.randint integer\r\n",
        "r = np.random.randint(10, size=(6,6))\r\n",
        "r"
      ],
      "execution_count": 22,
      "outputs": [
        {
          "output_type": "execute_result",
          "data": {
            "text/plain": [
              "array([[0, 0, 1, 6, 1, 0],\n",
              "       [5, 5, 6, 1, 4, 5],\n",
              "       [5, 7, 9, 2, 2, 3],\n",
              "       [2, 3, 3, 8, 9, 2],\n",
              "       [1, 7, 1, 3, 2, 5],\n",
              "       [3, 1, 4, 8, 9, 9]])"
            ]
          },
          "metadata": {
            "tags": []
          },
          "execution_count": 22
        }
      ]
    },
    {
      "cell_type": "code",
      "metadata": {
        "colab": {
          "base_uri": "https://localhost:8080/"
        },
        "id": "WIV3wrajHOGr",
        "outputId": "c1418984-e3f2-4583-98ff-cc158c804585"
      },
      "source": [
        "#10- random.rand floating\r\n",
        "f = np.random.rand(3,5)*100#rows,column,samplenum 0-100\r\n",
        "f"
      ],
      "execution_count": 24,
      "outputs": [
        {
          "output_type": "execute_result",
          "data": {
            "text/plain": [
              "array([[72.51322528, 37.09293458, 64.93057433, 29.16888836, 76.72827607],\n",
              "       [86.8128309 , 26.7992541 , 39.0238997 , 94.926873  ,  7.48365174],\n",
              "       [88.19696706, 93.38063355, 26.3550255 ,  9.72682903,  1.38464416]])"
            ]
          },
          "metadata": {
            "tags": []
          },
          "execution_count": 24
        }
      ]
    },
    {
      "cell_type": "code",
      "metadata": {
        "colab": {
          "base_uri": "https://localhost:8080/"
        },
        "id": "3D1T-80iHkZ4",
        "outputId": "e8095c8c-b652-4d8c-9c4b-70b958a5c08d"
      },
      "source": [
        "#11- reshape func\r\n",
        "b = np.arange(1,9) #start,end\r\n",
        "newarr = b.reshape(4, 2)\r\n",
        "newarr"
      ],
      "execution_count": 38,
      "outputs": [
        {
          "output_type": "execute_result",
          "data": {
            "text/plain": [
              "array([[1, 2],\n",
              "       [3, 4],\n",
              "       [5, 6],\n",
              "       [7, 8]])"
            ]
          },
          "metadata": {
            "tags": []
          },
          "execution_count": 38
        }
      ]
    },
    {
      "cell_type": "code",
      "metadata": {
        "colab": {
          "base_uri": "https://localhost:8080/"
        },
        "id": "yNuQepGEJVgh",
        "outputId": "54837683-b3c3-4ee4-f9aa-76677600d5e3"
      },
      "source": [
        "#12- shape func\r\n",
        "arr = np.array([[\"salma\",\"aqsa\",\"aini\"],[\"RaziUllah\",\"Mishaal\"]], dtype = list)\r\n",
        "arr = arr.shape\r\n",
        "arr"
      ],
      "execution_count": 39,
      "outputs": [
        {
          "output_type": "execute_result",
          "data": {
            "text/plain": [
              "(2,)"
            ]
          },
          "metadata": {
            "tags": []
          },
          "execution_count": 39
        }
      ]
    },
    {
      "cell_type": "code",
      "metadata": {
        "colab": {
          "base_uri": "https://localhost:8080/"
        },
        "id": "w087y6kEJxJZ",
        "outputId": "5e6e16d8-1202-4476-95e7-e7c13d6b1736"
      },
      "source": [
        "#13- dtype(datatype)\r\n",
        "dt = np.array([0,8,6,4,2])\r\n",
        "dt = dt.dtype\r\n",
        "dt"
      ],
      "execution_count": 40,
      "outputs": [
        {
          "output_type": "execute_result",
          "data": {
            "text/plain": [
              "dtype('int64')"
            ]
          },
          "metadata": {
            "tags": []
          },
          "execution_count": 40
        }
      ]
    },
    {
      "cell_type": "code",
      "metadata": {
        "colab": {
          "base_uri": "https://localhost:8080/"
        },
        "id": "kjnCDm3hKDfo",
        "outputId": "0097be57-6109-4d57-9501-b7f6c0729b80"
      },
      "source": [
        "#14- ndim(dimension)\r\n",
        "n = np.array([(1,2,3),(4,5,6)])\r\n",
        "n = n.ndim\r\n",
        "n"
      ],
      "execution_count": 41,
      "outputs": [
        {
          "output_type": "execute_result",
          "data": {
            "text/plain": [
              "2"
            ]
          },
          "metadata": {
            "tags": []
          },
          "execution_count": 41
        }
      ]
    },
    {
      "cell_type": "code",
      "metadata": {
        "colab": {
          "base_uri": "https://localhost:8080/"
        },
        "id": "-CdRnvl1KSVg",
        "outputId": "ab6ad3c2-c4e8-4796-fd0c-03d1339abfb3"
      },
      "source": [
        "#15- size of array\r\n",
        "\r\n",
        "i = np.array([\"fsd\",\"lhr\",\"isb\",\"mul\",\"punj\"])\r\n",
        "i = i.size\r\n",
        "i"
      ],
      "execution_count": 43,
      "outputs": [
        {
          "output_type": "execute_result",
          "data": {
            "text/plain": [
              "5"
            ]
          },
          "metadata": {
            "tags": []
          },
          "execution_count": 43
        }
      ]
    },
    {
      "cell_type": "code",
      "metadata": {
        "colab": {
          "base_uri": "https://localhost:8080/"
        },
        "id": "1My1pUmjKkYc",
        "outputId": "0cca6876-51f1-4d00-9024-ed306f57acde"
      },
      "source": [
        "#16- astype\r\n",
        "y = np.array([9,8,7,6,5,4,3,2,1])\r\n",
        "y = y.astype(float)\r\n",
        "y"
      ],
      "execution_count": 44,
      "outputs": [
        {
          "output_type": "execute_result",
          "data": {
            "text/plain": [
              "array([9., 8., 7., 6., 5., 4., 3., 2., 1.])"
            ]
          },
          "metadata": {
            "tags": []
          },
          "execution_count": 44
        }
      ]
    },
    {
      "cell_type": "code",
      "metadata": {
        "colab": {
          "base_uri": "https://localhost:8080/"
        },
        "id": "BtBu2dPOK_Bt",
        "outputId": "be5774e9-33eb-44b3-ab34-0e41ab7e54fa"
      },
      "source": [
        "#17- flattern (converting 2D into 1D array)\r\n",
        "ar = np.array([(1,2,3),(4,5,6)])\r\n",
        "ar = ar.flatten()\r\n",
        "ar"
      ],
      "execution_count": 45,
      "outputs": [
        {
          "output_type": "execute_result",
          "data": {
            "text/plain": [
              "array([1, 2, 3, 4, 5, 6])"
            ]
          },
          "metadata": {
            "tags": []
          },
          "execution_count": 45
        }
      ]
    },
    {
      "cell_type": "code",
      "metadata": {
        "colab": {
          "base_uri": "https://localhost:8080/"
        },
        "id": "G98g8818LOdM",
        "outputId": "f0fcf3ef-2392-4527-9a5d-cf0079ee72c6"
      },
      "source": [
        "#18- transpose (3x2 to 2x3 array)\r\n",
        "t = np.array([1,2,3,4,5,6])\r\n",
        "t = t.reshape((3,2))\r\n",
        "t = t.T\r\n",
        "t"
      ],
      "execution_count": 46,
      "outputs": [
        {
          "output_type": "execute_result",
          "data": {
            "text/plain": [
              "array([[1, 3, 5],\n",
              "       [2, 4, 6]])"
            ]
          },
          "metadata": {
            "tags": []
          },
          "execution_count": 46
        }
      ]
    },
    {
      "cell_type": "code",
      "metadata": {
        "colab": {
          "base_uri": "https://localhost:8080/"
        },
        "id": "d1-GoL0XLhtg",
        "outputId": "222e71a8-af13-46b8-940d-e19913a470ac"
      },
      "source": [
        "#19- resize func\r\n",
        "rr = np.array([1,2,3,4,5,6])\r\n",
        "rr = np.resize(rr, (3,4))\r\n",
        "rr"
      ],
      "execution_count": 49,
      "outputs": [
        {
          "output_type": "execute_result",
          "data": {
            "text/plain": [
              "array([[1, 2, 3, 4],\n",
              "       [5, 6, 1, 2],\n",
              "       [3, 4, 5, 6]])"
            ]
          },
          "metadata": {
            "tags": []
          },
          "execution_count": 49
        }
      ]
    },
    {
      "cell_type": "code",
      "metadata": {
        "colab": {
          "base_uri": "https://localhost:8080/"
        },
        "id": "C27EP_uGL4MY",
        "outputId": "d89baa9a-ee50-48da-8fce-212bbfb72872"
      },
      "source": [
        "#20- tolist func\r\n",
        "l = np.array([(1,2,3),(4,5,6)])\r\n",
        "l = l.tolist()\r\n",
        "l"
      ],
      "execution_count": 50,
      "outputs": [
        {
          "output_type": "execute_result",
          "data": {
            "text/plain": [
              "[[1, 2, 3], [4, 5, 6]]"
            ]
          },
          "metadata": {
            "tags": []
          },
          "execution_count": 50
        }
      ]
    },
    {
      "cell_type": "code",
      "metadata": {
        "colab": {
          "base_uri": "https://localhost:8080/"
        },
        "id": "iBs3SmdoMHh2",
        "outputId": "9fadb7c2-160f-4b3e-93d3-8677995fe2a5"
      },
      "source": [
        "#21- sort func\r\n",
        "s = np.array([(3,1,4),(0,2,5)])\r\n",
        "s = np.sort(s, axis= 1) #asic 0 is for column and axis 1 is for rows\r\n",
        "s"
      ],
      "execution_count": 52,
      "outputs": [
        {
          "output_type": "execute_result",
          "data": {
            "text/plain": [
              "array([[1, 3, 4],\n",
              "       [0, 2, 5]])"
            ]
          },
          "metadata": {
            "tags": []
          },
          "execution_count": 52
        }
      ]
    },
    {
      "cell_type": "code",
      "metadata": {
        "colab": {
          "base_uri": "https://localhost:8080/"
        },
        "id": "ELmzqEPxMUx4",
        "outputId": "5ed630e2-6e67-4dee-feef-be805cb11051"
      },
      "source": [
        "#22- append func\r\n",
        "ap = np.array([\"salma\",\"Kansa\",\"Isha\"])\r\n",
        "ap = np.append(ap,\"Maryam\")\r\n",
        "ap"
      ],
      "execution_count": 53,
      "outputs": [
        {
          "output_type": "execute_result",
          "data": {
            "text/plain": [
              "array(['salma', 'Kansa', 'Isha', 'Maryam'], dtype='<U6')"
            ]
          },
          "metadata": {
            "tags": []
          },
          "execution_count": 53
        }
      ]
    },
    {
      "cell_type": "code",
      "metadata": {
        "colab": {
          "base_uri": "https://localhost:8080/"
        },
        "id": "CWJZvT8lM6fI",
        "outputId": "daa239d1-9ba8-4671-8d2b-680af4bd3839"
      },
      "source": [
        "#23- concatenate func\r\n",
        "a1 = np.array([(1,2,3),(4,5,6)])\r\n",
        "a2 = np.array([(3,1,4),(0,2,5)])\r\n",
        "con  = np.concatenate((a1,a2), axis= 1)\r\n",
        "con"
      ],
      "execution_count": 55,
      "outputs": [
        {
          "output_type": "execute_result",
          "data": {
            "text/plain": [
              "array([[1, 2, 3, 3, 1, 4],\n",
              "       [4, 5, 6, 0, 2, 5]])"
            ]
          },
          "metadata": {
            "tags": []
          },
          "execution_count": 55
        }
      ]
    },
    {
      "cell_type": "code",
      "metadata": {
        "colab": {
          "base_uri": "https://localhost:8080/"
        },
        "id": "hPhRoyDNM-iL",
        "outputId": "8f931f3a-084c-4167-f743-28efc0263717"
      },
      "source": [
        "#24- hsplit(for index)\r\n",
        "sp = np.array([1,2,3,4,5,6])\r\n",
        "sp = np.hsplit(sp, 2)\r\n",
        "sp"
      ],
      "execution_count": 56,
      "outputs": [
        {
          "output_type": "execute_result",
          "data": {
            "text/plain": [
              "[array([1, 2, 3]), array([4, 5, 6])]"
            ]
          },
          "metadata": {
            "tags": []
          },
          "execution_count": 56
        }
      ]
    },
    {
      "cell_type": "code",
      "metadata": {
        "colab": {
          "base_uri": "https://localhost:8080/"
        },
        "id": "A2eu0D4oN9Ua",
        "outputId": "3175e137-cf03-4ff1-d248-b3cf2afaf74e"
      },
      "source": [
        "#25- array_split func\r\n",
        "asp = np.array([1,2,3,4,5,6])\r\n",
        "asp = np.array_split(asp, 3)\r\n",
        "asp"
      ],
      "execution_count": 57,
      "outputs": [
        {
          "output_type": "execute_result",
          "data": {
            "text/plain": [
              "[array([1, 2]), array([3, 4]), array([5, 6])]"
            ]
          },
          "metadata": {
            "tags": []
          },
          "execution_count": 57
        }
      ]
    },
    {
      "cell_type": "code",
      "metadata": {
        "colab": {
          "base_uri": "https://localhost:8080/"
        },
        "id": "gMN5kJOfNDl8",
        "outputId": "70ead47c-f293-468a-ef50-7301d97c7ff9"
      },
      "source": [
        "#26- delete\r\n",
        "de = np.array([\"salma\",\"anum\",\"aqsa\"])\r\n",
        "de = np.delete(de,1, axis= 0) #index 1 \r\n",
        "de"
      ],
      "execution_count": 58,
      "outputs": [
        {
          "output_type": "execute_result",
          "data": {
            "text/plain": [
              "array(['salma', 'aqsa'], dtype='<U5')"
            ]
          },
          "metadata": {
            "tags": []
          },
          "execution_count": 58
        }
      ]
    },
    {
      "cell_type": "code",
      "metadata": {
        "colab": {
          "base_uri": "https://localhost:8080/"
        },
        "id": "LBHv6lxoNE-l",
        "outputId": "d0d01833-cf14-4870-bd7c-04ede4acc06b"
      },
      "source": [
        "#27- insert\r\n",
        "ins = np.array([\"salma\",\"anum\",\"aqsa\"])\r\n",
        "ins = np.insert(ins, 2, \"aini\") #index 2\r\n",
        "ins"
      ],
      "execution_count": 59,
      "outputs": [
        {
          "output_type": "execute_result",
          "data": {
            "text/plain": [
              "array(['salma', 'anum', 'aini', 'aqsa'], dtype='<U5')"
            ]
          },
          "metadata": {
            "tags": []
          },
          "execution_count": 59
        }
      ]
    },
    {
      "cell_type": "code",
      "metadata": {
        "colab": {
          "base_uri": "https://localhost:8080/"
        },
        "id": "P3YHQPrENHXX",
        "outputId": "377a5124-8447-4631-d370-f824b74d8755"
      },
      "source": [
        "#28- slicing\r\n",
        "s1 = np.array([1,2,3,4,5,6,7,8,9,10])\r\n",
        "s1 = s1[0:-1]\r\n",
        "s1"
      ],
      "execution_count": 62,
      "outputs": [
        {
          "output_type": "execute_result",
          "data": {
            "text/plain": [
              "array([1, 2, 3, 4, 5, 6, 7, 8, 9])"
            ]
          },
          "metadata": {
            "tags": []
          },
          "execution_count": 62
        }
      ]
    },
    {
      "cell_type": "code",
      "metadata": {
        "colab": {
          "base_uri": "https://localhost:8080/"
        },
        "id": "V67ydf_KNLIg",
        "outputId": "3be4104a-6d70-4a11-d729-542abdf97176"
      },
      "source": [
        "#29 - selecting element\r\n",
        "se = np.array([[1,2,3,4,5],[6,7,8,9,10]]) #2d array\r\n",
        "se = se[1,2]\r\n",
        "se"
      ],
      "execution_count": 67,
      "outputs": [
        {
          "output_type": "execute_result",
          "data": {
            "text/plain": [
              "8"
            ]
          },
          "metadata": {
            "tags": []
          },
          "execution_count": 67
        }
      ]
    },
    {
      "cell_type": "code",
      "metadata": {
        "colab": {
          "base_uri": "https://localhost:8080/"
        },
        "id": "NTTcdd4OPYB-",
        "outputId": "672e549d-a06a-4278-cd37-c1bd65837078"
      },
      "source": [
        "#30- slicing with 0 index\r\n",
        "s2= np.array([[1,2,3,4,5],[6,7,8,9,10]])\r\n",
        "s2 = s2[:,0]\r\n",
        "s2"
      ],
      "execution_count": 68,
      "outputs": [
        {
          "output_type": "execute_result",
          "data": {
            "text/plain": [
              "array([1, 6])"
            ]
          },
          "metadata": {
            "tags": []
          },
          "execution_count": 68
        }
      ]
    },
    {
      "cell_type": "code",
      "metadata": {
        "colab": {
          "base_uri": "https://localhost:8080/"
        },
        "id": "V0G9_w8nQDL1",
        "outputId": "56eb5914-2559-48e9-f0ba-e152907fec53"
      },
      "source": [
        "#31- max\r\n",
        "mx= np.array([222,234,112,255,410])\r\n",
        "mx = np.max(mx)\r\n",
        "mx"
      ],
      "execution_count": 70,
      "outputs": [
        {
          "output_type": "execute_result",
          "data": {
            "text/plain": [
              "410"
            ]
          },
          "metadata": {
            "tags": []
          },
          "execution_count": 70
        }
      ]
    },
    {
      "cell_type": "code",
      "metadata": {
        "colab": {
          "base_uri": "https://localhost:8080/"
        },
        "id": "ouJOZzyzU4i5",
        "outputId": "71716c88-be2a-483d-d629-1d930c015a51"
      },
      "source": [
        "#32- min\r\n",
        "mn = np.array([2,4,0,0,10])\r\n",
        "mn = np.min(mn)\r\n",
        "mn"
      ],
      "execution_count": 71,
      "outputs": [
        {
          "output_type": "execute_result",
          "data": {
            "text/plain": [
              "0"
            ]
          },
          "metadata": {
            "tags": []
          },
          "execution_count": 71
        }
      ]
    },
    {
      "cell_type": "code",
      "metadata": {
        "colab": {
          "base_uri": "https://localhost:8080/"
        },
        "id": "wmf9MUxNVSQv",
        "outputId": "013e1df4-19a5-4b9c-f8ff-595b0b64c4f1"
      },
      "source": [
        "#33- floor\r\n",
        "fl = np.array([1.3,2.7,3.5])\r\n",
        "fl = np.floor(fl)\r\n",
        "fl"
      ],
      "execution_count": 72,
      "outputs": [
        {
          "output_type": "execute_result",
          "data": {
            "text/plain": [
              "array([1., 2., 3.])"
            ]
          },
          "metadata": {
            "tags": []
          },
          "execution_count": 72
        }
      ]
    },
    {
      "cell_type": "code",
      "metadata": {
        "colab": {
          "base_uri": "https://localhost:8080/"
        },
        "id": "Xf5jC9tZVoLX",
        "outputId": "014d286f-108d-4ceb-f711-b879209bb694"
      },
      "source": [
        "#33- ceil\r\n",
        "f2 = np.array([1.3,2.7,3.5])\r\n",
        "f2 = np.ceil(f2)\r\n",
        "f2"
      ],
      "execution_count": 73,
      "outputs": [
        {
          "output_type": "execute_result",
          "data": {
            "text/plain": [
              "array([2., 3., 4.])"
            ]
          },
          "metadata": {
            "tags": []
          },
          "execution_count": 73
        }
      ]
    },
    {
      "cell_type": "code",
      "metadata": {
        "colab": {
          "base_uri": "https://localhost:8080/"
        },
        "id": "z17Ln_BKVoIQ",
        "outputId": "a0a5dd6b-43bc-4f03-a093-865040e1c2d6"
      },
      "source": [
        "#34- round\r\n",
        "ro = np.array([1.3,2.7,3.5])\r\n",
        "ro = np.round(ro)\r\n",
        "ro"
      ],
      "execution_count": 74,
      "outputs": [
        {
          "output_type": "execute_result",
          "data": {
            "text/plain": [
              "array([1., 3., 4.])"
            ]
          },
          "metadata": {
            "tags": []
          },
          "execution_count": 74
        }
      ]
    },
    {
      "cell_type": "code",
      "metadata": {
        "colab": {
          "base_uri": "https://localhost:8080/"
        },
        "id": "5-HP1XcpVoGi",
        "outputId": "fed20c99-73f4-4a8b-db4f-5084daf1b25b"
      },
      "source": [
        "#35- absolute\r\n",
        "ab = np.array([1.3,2,3.5])\r\n",
        "ab = np.abs(ab)\r\n",
        "ab"
      ],
      "execution_count": 76,
      "outputs": [
        {
          "output_type": "execute_result",
          "data": {
            "text/plain": [
              "array([1.3, 2. , 3.5])"
            ]
          },
          "metadata": {
            "tags": []
          },
          "execution_count": 76
        }
      ]
    },
    {
      "cell_type": "code",
      "metadata": {
        "colab": {
          "base_uri": "https://localhost:8080/"
        },
        "id": "1UzhOHw7WYGs",
        "outputId": "7446e174-fa8e-4b76-8812-d65cc992b84b"
      },
      "source": [
        "#36- log\r\n",
        "lg = np.array([1,30,45,60,90])\r\n",
        "lg = np.log(lg)\r\n",
        "lg"
      ],
      "execution_count": 77,
      "outputs": [
        {
          "output_type": "execute_result",
          "data": {
            "text/plain": [
              "array([0.        , 3.40119738, 3.80666249, 4.09434456, 4.49980967])"
            ]
          },
          "metadata": {
            "tags": []
          },
          "execution_count": 77
        }
      ]
    },
    {
      "cell_type": "code",
      "metadata": {
        "colab": {
          "base_uri": "https://localhost:8080/"
        },
        "id": "kZ-rlcrmWnm6",
        "outputId": "04cf2c7f-5b0a-428e-b1cf-285bfee3dd6a"
      },
      "source": [
        "#37- cos\r\n",
        "cs = np.array([0,30,45,60,90])\r\n",
        "cs = np.cos(cs)\r\n",
        "cs"
      ],
      "execution_count": 78,
      "outputs": [
        {
          "output_type": "execute_result",
          "data": {
            "text/plain": [
              "array([ 1.        ,  0.15425145,  0.52532199, -0.95241298, -0.44807362])"
            ]
          },
          "metadata": {
            "tags": []
          },
          "execution_count": 78
        }
      ]
    },
    {
      "cell_type": "code",
      "metadata": {
        "colab": {
          "base_uri": "https://localhost:8080/"
        },
        "id": "-CeVbGMMWnie",
        "outputId": "30565a6a-dbf1-49d2-e1b9-f00e109b1558"
      },
      "source": [
        "#38- sin\r\n",
        "sn = np.array([0,30,45,60,90])\r\n",
        "sn = np.sin(sn)\r\n",
        "sn"
      ],
      "execution_count": 79,
      "outputs": [
        {
          "output_type": "execute_result",
          "data": {
            "text/plain": [
              "array([ 0.        , -0.98803162,  0.85090352, -0.30481062,  0.89399666])"
            ]
          },
          "metadata": {
            "tags": []
          },
          "execution_count": 79
        }
      ]
    },
    {
      "cell_type": "code",
      "metadata": {
        "colab": {
          "base_uri": "https://localhost:8080/"
        },
        "id": "ZeP5jJYxXAUg",
        "outputId": "20165bb5-61d6-4962-a256-d1e00db2729a"
      },
      "source": [
        "#39- exponenet\r\n",
        "ex = np.array([1,2,3,4,5])\r\n",
        "exp = np.exp(ex)\r\n",
        "exp"
      ],
      "execution_count": 80,
      "outputs": [
        {
          "output_type": "execute_result",
          "data": {
            "text/plain": [
              "array([  2.71828183,   7.3890561 ,  20.08553692,  54.59815003,\n",
              "       148.4131591 ])"
            ]
          },
          "metadata": {
            "tags": []
          },
          "execution_count": 80
        }
      ]
    },
    {
      "cell_type": "code",
      "metadata": {
        "colab": {
          "base_uri": "https://localhost:8080/"
        },
        "id": "lnZL1SQ8XI_K",
        "outputId": "33768d2f-9bd7-4451-eb93-4f91e4a18e33"
      },
      "source": [
        "#40- equal array\r\n",
        "a1 = np.array([\"salma\",\"aqsa\"])\r\n",
        "a2 = np.array([\"salma\",\"aqsa\"])\r\n",
        "ans  = np.array_equal(a1,a2)\r\n",
        "ans"
      ],
      "execution_count": 82,
      "outputs": [
        {
          "output_type": "execute_result",
          "data": {
            "text/plain": [
              "True"
            ]
          },
          "metadata": {
            "tags": []
          },
          "execution_count": 82
        }
      ]
    },
    {
      "cell_type": "code",
      "metadata": {
        "colab": {
          "base_uri": "https://localhost:8080/"
        },
        "id": "65WbQG9PXhzp",
        "outputId": "9a5829b3-4ade-4f92-9cbd-3847beb32f5f"
      },
      "source": [
        "#41- power \r\n",
        "pw = np.array([1,3,5,7,9,11])\r\n",
        "poe  = np.power(pw,2)\r\n",
        "poe"
      ],
      "execution_count": 83,
      "outputs": [
        {
          "output_type": "execute_result",
          "data": {
            "text/plain": [
              "array([  1,   9,  25,  49,  81, 121])"
            ]
          },
          "metadata": {
            "tags": []
          },
          "execution_count": 83
        }
      ]
    },
    {
      "cell_type": "code",
      "metadata": {
        "colab": {
          "base_uri": "https://localhost:8080/"
        },
        "id": "CZa0DCFMXu1b",
        "outputId": "033966d6-1d53-4f37-e313-41dcb200ce7f"
      },
      "source": [
        "#42- square\r\n",
        "sq = np.array([1,4,9,10,16,25])\r\n",
        "squ = np.square(sq)\r\n",
        "squ"
      ],
      "execution_count": 84,
      "outputs": [
        {
          "output_type": "execute_result",
          "data": {
            "text/plain": [
              "array([  1,  16,  81, 100, 256, 625])"
            ]
          },
          "metadata": {
            "tags": []
          },
          "execution_count": 84
        }
      ]
    },
    {
      "cell_type": "code",
      "metadata": {
        "colab": {
          "base_uri": "https://localhost:8080/"
        },
        "id": "LYxEXfR3X64L",
        "outputId": "fe32bfca-6d6a-4734-a112-633d3bcbf855"
      },
      "source": [
        "#43- sqrt (squeare root)\r\n",
        "sqr = np.array([1,2,3,4])\r\n",
        "sqr = np.sqrt(sqr)\r\n",
        "sqr"
      ],
      "execution_count": 86,
      "outputs": [
        {
          "output_type": "execute_result",
          "data": {
            "text/plain": [
              "array([1.        , 1.41421356, 1.73205081, 2.        ])"
            ]
          },
          "metadata": {
            "tags": []
          },
          "execution_count": 86
        }
      ]
    },
    {
      "cell_type": "code",
      "metadata": {
        "colab": {
          "base_uri": "https://localhost:8080/"
        },
        "id": "hoMzKEEQYJX7",
        "outputId": "0e84060d-8d71-4f00-8149-1c365e32718b"
      },
      "source": [
        "#44- add\r\n",
        "ad = np.array([4,9,6,2,15,10])\r\n",
        "ad  = np.add(ad,3)\r\n",
        "ad\r\n"
      ],
      "execution_count": 88,
      "outputs": [
        {
          "output_type": "execute_result",
          "data": {
            "text/plain": [
              "array([ 7, 12,  9,  5, 18, 13])"
            ]
          },
          "metadata": {
            "tags": []
          },
          "execution_count": 88
        }
      ]
    },
    {
      "cell_type": "code",
      "metadata": {
        "colab": {
          "base_uri": "https://localhost:8080/"
        },
        "id": "Flt88QghZG2m",
        "outputId": "a32c7075-c96b-4ee0-aaf8-121b3c848d99"
      },
      "source": [
        "#45- substract\r\n",
        "sub1 = np.array([4,9,6,2,15,10])\r\n",
        "sub2 = np.array([2,4,6,8,10,12])\r\n",
        "sb  = np.subtract(sub2,sub1)\r\n",
        "sb"
      ],
      "execution_count": 89,
      "outputs": [
        {
          "output_type": "execute_result",
          "data": {
            "text/plain": [
              "array([-2, -5,  0,  6, -5,  2])"
            ]
          },
          "metadata": {
            "tags": []
          },
          "execution_count": 89
        }
      ]
    },
    {
      "cell_type": "code",
      "metadata": {
        "colab": {
          "base_uri": "https://localhost:8080/"
        },
        "id": "wryP6QieZJry",
        "outputId": "283a8fec-a8b1-4519-955f-4d4ffe8ca3ca"
      },
      "source": [
        "#46- multiply\r\n",
        "m1 = np.array([1,3,5,7,9,11])\r\n",
        "m2 = np.copy(m1)\r\n",
        "mu = np.multiply(m2,m1)\r\n",
        "mu"
      ],
      "execution_count": 91,
      "outputs": [
        {
          "output_type": "execute_result",
          "data": {
            "text/plain": [
              "array([  1,   9,  25,  49,  81, 121])"
            ]
          },
          "metadata": {
            "tags": []
          },
          "execution_count": 91
        }
      ]
    },
    {
      "cell_type": "code",
      "metadata": {
        "colab": {
          "base_uri": "https://localhost:8080/"
        },
        "id": "CkMcxOaFZMfm",
        "outputId": "e256f329-8ca1-45f7-d807-d7a1272be6a4"
      },
      "source": [
        "#47-divide\r\n",
        "d1 = np.array([2,6,12,16,30,60])\r\n",
        "d2 = np.array([2,4,6,8,10,12])\r\n",
        "div  = np.divide(d1,d2)\r\n",
        "div"
      ],
      "execution_count": 92,
      "outputs": [
        {
          "output_type": "execute_result",
          "data": {
            "text/plain": [
              "array([1. , 1.5, 2. , 2. , 3. , 5. ])"
            ]
          },
          "metadata": {
            "tags": []
          },
          "execution_count": 92
        }
      ]
    },
    {
      "cell_type": "code",
      "metadata": {
        "colab": {
          "base_uri": "https://localhost:8080/"
        },
        "id": "jq8Cx4reZVjX",
        "outputId": "2a05b982-20d4-4eed-f9ab-7f3b6f2ed058"
      },
      "source": [
        "#48- mean\r\n",
        "me = np.array([[2,6,3],[5,9,15]])\r\n",
        "me = np.mean(me,axis=1)\r\n",
        "me"
      ],
      "execution_count": 96,
      "outputs": [
        {
          "output_type": "execute_result",
          "data": {
            "text/plain": [
              "array([3.66666667, 9.66666667])"
            ]
          },
          "metadata": {
            "tags": []
          },
          "execution_count": 96
        }
      ]
    },
    {
      "cell_type": "code",
      "metadata": {
        "colab": {
          "base_uri": "https://localhost:8080/"
        },
        "id": "QIETTy2DZjsy",
        "outputId": "0ce13ee4-aba5-4519-8043-d8ea389c7140"
      },
      "source": [
        "#49-median\r\n",
        "md = np.array([[2,6,3],[5,9,15]])\r\n",
        "md = np.median(md,axis=1)\r\n",
        "md"
      ],
      "execution_count": 97,
      "outputs": [
        {
          "output_type": "execute_result",
          "data": {
            "text/plain": [
              "array([3., 9.])"
            ]
          },
          "metadata": {
            "tags": []
          },
          "execution_count": 97
        }
      ]
    },
    {
      "cell_type": "code",
      "metadata": {
        "colab": {
          "base_uri": "https://localhost:8080/"
        },
        "id": "JOtARlNOZqem",
        "outputId": "b34c62e5-5e91-4776-d8a0-3e43323f8a6e"
      },
      "source": [
        "#50- sum of variance\r\n",
        "su = np.array([[2,6,3],[5,9,15]])\r\n",
        "sm = su.sum(axis=1)\r\n",
        "v = np.var(sm)\r\n",
        "v"
      ],
      "execution_count": 99,
      "outputs": [
        {
          "output_type": "execute_result",
          "data": {
            "text/plain": [
              "81.0"
            ]
          },
          "metadata": {
            "tags": []
          },
          "execution_count": 99
        }
      ]
    }
  ]
}